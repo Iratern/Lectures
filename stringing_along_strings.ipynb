{
 "cells": [
  {
   "cell_type": "code",
   "execution_count": 1,
   "id": "f9eb9333-1ec7-4024-a002-04539faa6143",
   "metadata": {},
   "outputs": [],
   "source": [
    "#Welcome to Stringing along Strings!\n",
    "\n",
    "#A string is a python data type used to represent an arbitrary sequence of characters. \n",
    "#In other words, any snippet of text surrounded by quotation marks\n",
    "#Python will interpret anything within single: '' or \"\" double quotes as a string.\n",
    "#This means anything within the qoutes will be interpreted literally \n",
    "#Amonst others this implies: strings are case sensitive!\n",
    "#all of the below are examples of a string\n"
   ]
  },
  {
   "cell_type": "code",
   "execution_count": 2,
   "id": "a1b175a2-e626-4171-ad6d-8ac47382afcc",
   "metadata": {},
   "outputs": [],
   "source": [
    "#today we will learn how to:\n",
    "#1)define a string\n",
    "#2)assign a string to a variable\n",
    "#3)find the length of a string\n",
    "#4)concatenate (combine) strings to form new strings\n",
    "#5)make python output(print) a string"
   ]
  },
  {
   "cell_type": "code",
   "execution_count": 3,
   "id": "1cda8941-fd30-4927-b136-3bcc76534300",
   "metadata": {},
   "outputs": [],
   "source": [
    "'Ibrahim'\n",
    "\"Ibrahim\"\n",
    "name = \"Ibrahim\"\n",
    "name2 = 'Ibrahim'\n",
    "name3 = 'ibrAhim'"
   ]
  },
  {
   "cell_type": "code",
   "execution_count": 4,
   "id": "af63bc05-4510-46aa-85df-061639f49a6e",
   "metadata": {},
   "outputs": [
    {
     "name": "stdout",
     "output_type": "stream",
     "text": [
      "Ibrahim Ibrahim Ibrahim Ibrahim ibrAhim\n"
     ]
    }
   ],
   "source": [
    "#all are the same string!\n",
    "print('Ibrahim', \"Ibrahim\", name, name2, name3)"
   ]
  },
  {
   "cell_type": "code",
   "execution_count": 5,
   "id": "92de4f42-3320-4903-941a-bdf70fe1dcb7",
   "metadata": {},
   "outputs": [
    {
     "name": "stdout",
     "output_type": "stream",
     "text": [
      "123\n"
     ]
    }
   ],
   "source": [
    "#strings can even be numbers!\n",
    "number_string = \"123\"\n",
    "print(number_string)"
   ]
  },
  {
   "cell_type": "code",
   "execution_count": 6,
   "id": "f54a8400-0347-427d-a242-fa070ea77b6c",
   "metadata": {},
   "outputs": [
    {
     "name": "stdout",
     "output_type": "stream",
     "text": [
      "7\n",
      "7\n",
      "7\n"
     ]
    }
   ],
   "source": [
    "#we can use the len() function to find the length of a string\n",
    "length = len(name)\n",
    "print(len(\"Ibrahim\"))\n",
    "print(len(name))\n",
    "print(length)"
   ]
  },
  {
   "cell_type": "code",
   "execution_count": 7,
   "id": "835326c2-a5a2-48e2-a0b6-811f96f86c45",
   "metadata": {},
   "outputs": [
    {
     "name": "stdout",
     "output_type": "stream",
     "text": [
      "random string 1random string 2\n"
     ]
    }
   ],
   "source": [
    "#String Concatenation is the process of combining strings to form new ones\n",
    "#example of concatenation \n",
    "var_1 = \"random string 1\"\n",
    "var_2 = \"random string 2\"\n",
    "var_3 = var_1 + var_2\n",
    "print(var_3)"
   ]
  },
  {
   "cell_type": "code",
   "execution_count": 8,
   "id": "6753009c-6e8e-4f12-bdf5-81290fd521be",
   "metadata": {},
   "outputs": [
    {
     "name": "stdout",
     "output_type": "stream",
     "text": [
      "random string 1 random string 2\n"
     ]
    }
   ],
   "source": [
    "var_3 = var_1 +\" \" +var_2\n",
    "print(var_3)"
   ]
  },
  {
   "cell_type": "code",
   "execution_count": 9,
   "id": "26ef3054-65d7-420e-8c47-64a56fc60b4c",
   "metadata": {},
   "outputs": [
    {
     "name": "stdout",
     "output_type": "stream",
     "text": [
      "name\n"
     ]
    }
   ],
   "source": [
    "#we can add strings together to form new strings!\n",
    "letter1 = \"I\"\n",
    "letter2 = \"b\"\n",
    "letter3 = \"r\"\n",
    "letter4 = \"a\"\n",
    "letter5 = \"h\"\n",
    "letter6 = \"i\"\n",
    "letter7 = \"m\"\n",
    "name = letter1+letter2+letter3+letter4+letter5+letter6+letter7\n",
    "print(\"name\") #why is this wrong?\n"
   ]
  },
  {
   "cell_type": "code",
   "execution_count": 10,
   "id": "6412b116-5d7e-48db-8724-b1e0b8799b0e",
   "metadata": {},
   "outputs": [
    {
     "name": "stdout",
     "output_type": "stream",
     "text": [
      "Ibrahim\n"
     ]
    }
   ],
   "source": [
    "#we entered name as a string,i.e we used quotations:\"name\"\n",
    "#this made python see it as a string and not a variable so it interpreted it literally as word\n",
    "#to fix this use name with no quotations\n",
    "print(name)"
   ]
  },
  {
   "cell_type": "code",
   "execution_count": 11,
   "id": "4e1b7293-fb81-4bd7-a926-b0840db83f3f",
   "metadata": {},
   "outputs": [],
   "source": [
    "#Let's Practice!\n",
    "\n",
    "#Create variables corresponding to letters in your name\n",
    "#Combine the variables to form a string that is your name\n",
    "#Check how long your name is\n",
    "#print your name and the length\n",
    "\n",
    "#hint: string concatenation\n",
    "#hint use len()\n",
    "#then print it out"
   ]
  },
  {
   "cell_type": "code",
   "execution_count": 12,
   "id": "cc63227a-2b71-47d5-9b92-edb8a3c76e3a",
   "metadata": {},
   "outputs": [
    {
     "name": "stdout",
     "output_type": "stream",
     "text": [
      "Anita\n",
      "5\n",
      "5\n",
      "Anita 5\n"
     ]
    }
   ],
   "source": [
    "#example\n",
    "x1= \"A\"\n",
    "x2= \"n\"\n",
    "x3= \"i\"\n",
    "x4= 't'\n",
    "x5= 'a'\n",
    "name_1 = x1 + x2 + x3 + x4 + x5\n",
    "length = len(name_1)\n",
    "print(name_1)\n",
    "print(len(name_1))\n",
    "#or if we want it in one line\n",
    "print(length)\n",
    "print(name_1, length)"
   ]
  },
  {
   "cell_type": "code",
   "execution_count": 13,
   "id": "d20ac1d6-af6c-4cde-99f6-f00db718c369",
   "metadata": {},
   "outputs": [
    {
     "name": "stdout",
     "output_type": "stream",
     "text": [
      "My name is: Anita and it has 5 letters\n"
     ]
    }
   ],
   "source": [
    "#spoiler!\n",
    "#if we want to be real fancy we can do something like this\n",
    "print(\"My name is: {} and it has {} letters\".format(name_1,len(name_1)))"
   ]
  },
  {
   "cell_type": "code",
   "execution_count": 14,
   "id": "11a9058c-c640-43a5-a1a0-e7ec2beaf012",
   "metadata": {},
   "outputs": [],
   "source": [
    "\n",
    "#next time we will talk about string indexing, i.e. how to find the location of a particular charcter within a string\n",
    "#we will also talk about extracting a substring from a given string\n",
    "#finally we will learn how to combine these tools with conditional statements and branching to create powerful functions capable of automatically updating emails, texts etc."
   ]
  },
  {
   "cell_type": "code",
   "execution_count": 15,
   "id": "2177a47c-f416-40c7-85ea-645d576fda3b",
   "metadata": {},
   "outputs": [
    {
     "name": "stdout",
     "output_type": "stream",
     "text": [
      "I\n"
     ]
    }
   ],
   "source": [
    "#we can find an element or character in a string by using string indexing:\n",
    "# 0 1 2 3 4 5 6\n",
    "# I b r a h i m\n",
    "#we enter the index nnumber as an argument into square brackets\n",
    "#the first character is indexed by 0\n",
    "print(\"Ibrahim\"[0])"
   ]
  },
  {
   "cell_type": "code",
   "execution_count": 16,
   "id": "d83b23b0-3228-49de-9835-8b6a034fbaa9",
   "metadata": {},
   "outputs": [
    {
     "name": "stdout",
     "output_type": "stream",
     "text": [
      "I\n"
     ]
    }
   ],
   "source": [
    "#we can use the variable name as well!\n",
    "print(name[0])"
   ]
  },
  {
   "cell_type": "code",
   "execution_count": 17,
   "id": "cc6bfcca-465e-4283-a381-73a14c93735c",
   "metadata": {},
   "outputs": [
    {
     "name": "stdout",
     "output_type": "stream",
     "text": [
      "m\n"
     ]
    }
   ],
   "source": [
    "print(name[6])"
   ]
  },
  {
   "cell_type": "code",
   "execution_count": 18,
   "id": "bbed85f3-d082-49fd-8e87-6b1624b6d572",
   "metadata": {},
   "outputs": [
    {
     "ename": "IndexError",
     "evalue": "string index out of range",
     "output_type": "error",
     "traceback": [
      "\u001b[1;31m---------------------------------------------------------------------------\u001b[0m",
      "\u001b[1;31mIndexError\u001b[0m                                Traceback (most recent call last)",
      "\u001b[1;32m<ipython-input-18-7aed9a0da357>\u001b[0m in \u001b[0;36m<module>\u001b[1;34m\u001b[0m\n\u001b[0;32m      1\u001b[0m \u001b[1;31m#what happends if we try to find the (non-existant) 7th index?\u001b[0m\u001b[1;33m\u001b[0m\u001b[1;33m\u001b[0m\u001b[1;33m\u001b[0m\u001b[0m\n\u001b[1;32m----> 2\u001b[1;33m \u001b[0mprint\u001b[0m\u001b[1;33m(\u001b[0m\u001b[0mname\u001b[0m\u001b[1;33m[\u001b[0m\u001b[1;36m7\u001b[0m\u001b[1;33m]\u001b[0m\u001b[1;33m)\u001b[0m\u001b[1;33m\u001b[0m\u001b[1;33m\u001b[0m\u001b[0m\n\u001b[0m",
      "\u001b[1;31mIndexError\u001b[0m: string index out of range"
     ]
    }
   ],
   "source": [
    "#what happends if we try to find the (non-existant) 7th index?\n",
    "print(name[7])"
   ]
  },
  {
   "cell_type": "code",
   "execution_count": 19,
   "id": "aea66a45-6153-43fb-8768-05952f2f267b",
   "metadata": {},
   "outputs": [],
   "source": [
    "#Now let's try this for your own name:\n"
   ]
  },
  {
   "cell_type": "code",
   "execution_count": 20,
   "id": "e1a76517-0df9-43bf-a24c-707714c61819",
   "metadata": {},
   "outputs": [],
   "source": [
    "#we get an index out of range error! This simply means that the string is too short to have a 7th index (8th element)"
   ]
  },
  {
   "cell_type": "code",
   "execution_count": 21,
   "id": "96212070-5664-44ec-a95a-3130b5095cb9",
   "metadata": {},
   "outputs": [
    {
     "name": "stdout",
     "output_type": "stream",
     "text": [
      "m\n"
     ]
    }
   ],
   "source": [
    "#we can even go from reverse order by using negative numbers!\n",
    "# -7 -6 -5- 4- 3 -2 -1\n",
    "#  I  b  r  a  h  i  m\n",
    "print(\"Ibrahim\"[-1])"
   ]
  },
  {
   "cell_type": "code",
   "execution_count": 22,
   "id": "cc46931e-861f-4741-95da-0c364269302c",
   "metadata": {},
   "outputs": [
    {
     "name": "stdout",
     "output_type": "stream",
     "text": [
      "I\n",
      "h\n"
     ]
    }
   ],
   "source": [
    "print(\"Ibrahim\"[-7])\n",
    "print(name[-3])"
   ]
  },
  {
   "cell_type": "code",
   "execution_count": 23,
   "id": "fa73d30a-7577-4345-b723-15d49969e455",
   "metadata": {},
   "outputs": [
    {
     "name": "stdout",
     "output_type": "stream",
     "text": [
      "They are the same letter! which is: I\n"
     ]
    }
   ],
   "source": [
    "if name[-7] == \"Ibrahim\"[0]: \n",
    "    print(\"They are the same letter! which is: \" + name[0])\n",
    "#above we used the \" + \" operator to concact (combine) the two strings: the phrase and the result of name at that index"
   ]
  },
  {
   "cell_type": "code",
   "execution_count": 24,
   "id": "b14b73e6-e1de-4691-85b3-8062b192905e",
   "metadata": {},
   "outputs": [
    {
     "name": "stdout",
     "output_type": "stream",
     "text": [
      "random string 1 random string 2\n"
     ]
    }
   ],
   "source": [
    "#hmmm it worked but we want a space in between, let's try to concact another string with just a space in between:\n",
    "#so let us reassign the variable \"var_3\"\n",
    "var_3 = var_1 + \" \" + var_2\n",
    "print(var_3)\n",
    "#as you can see python correctly interpreted \" \" as a space\n",
    "#this is the coll thing about strings, almost anything inside the brackets is interpreted literally!"
   ]
  },
  {
   "cell_type": "code",
   "execution_count": 25,
   "id": "90ddcd77-9908-409d-9d4d-c2a9d8a87d95",
   "metadata": {},
   "outputs": [
    {
     "name": "stdout",
     "output_type": "stream",
     "text": [
      " \n"
     ]
    }
   ],
   "source": [
    "#in fact \" \" is a string that contains only an empty space\n",
    "space_string = \" \"\n",
    "print(space_string)"
   ]
  },
  {
   "cell_type": "code",
   "execution_count": 26,
   "id": "f9278a17-014b-4a4a-99dc-42d5085ed3a4",
   "metadata": {},
   "outputs": [
    {
     "name": "stdout",
     "output_type": "stream",
     "text": [
      "\n"
     ]
    }
   ],
   "source": [
    "#it printed nothing! \n",
    "#actually it printed exactly what we wanted: a space!\n",
    "empty_string = \"\"\n",
    "print(empty_string)"
   ]
  },
  {
   "cell_type": "code",
   "execution_count": 27,
   "id": "1bb4ce52-f707-41b9-81a7-aae123daee64",
   "metadata": {},
   "outputs": [
    {
     "name": "stdout",
     "output_type": "stream",
     "text": [
      "<class 'str'> <class 'str'>\n"
     ]
    }
   ],
   "source": [
    "#let's use the type function to see what space_string and empty_string are:\n",
    "#we will enter two arguments into the print function seperated by commas:\n",
    "print(type(space_string),type(empty_string))"
   ]
  },
  {
   "cell_type": "code",
   "execution_count": 28,
   "id": "e101ea27-d36f-494f-85c0-0902f8507d4e",
   "metadata": {},
   "outputs": [],
   "source": [
    "#as you can see both are bona-fide strings!"
   ]
  },
  {
   "cell_type": "code",
   "execution_count": 29,
   "id": "06fa9b3c-e7fd-46fc-9e00-4de92801a962",
   "metadata": {},
   "outputs": [
    {
     "name": "stdout",
     "output_type": "stream",
     "text": [
      "123abc\n"
     ]
    }
   ],
   "source": [
    "#we can even combine a string of numbers with a string of letters:\n",
    "number_string = \"123\"\n",
    "letter_string  =\"abc\"\n",
    "mixed_string = number_string + letter_string\n",
    "print(mixed_string)"
   ]
  },
  {
   "cell_type": "code",
   "execution_count": 30,
   "id": "c7389adf-4d70-43d8-b530-6f8bb04a8875",
   "metadata": {},
   "outputs": [
    {
     "name": "stdout",
     "output_type": "stream",
     "text": [
      "Ib\n"
     ]
    }
   ],
   "source": [
    "#we can do more with indexing then just finding a single element of the string\n",
    "#we can even pull out substrings\n",
    "#what is a substring you say? A substring is a sub-section of a larger string:\n",
    "#example\n",
    "print(name[0:2])"
   ]
  },
  {
   "cell_type": "code",
   "execution_count": 31,
   "id": "5f6d17d6-f844-4428-8df8-d16771df4f80",
   "metadata": {},
   "outputs": [
    {
     "name": "stdout",
     "output_type": "stream",
     "text": [
      "ahim\n"
     ]
    }
   ],
   "source": [
    "#the first number tells python where to start, the colon tells python that we are looking for a substring, the second number tells python where to end\n",
    "print(name[3:7])"
   ]
  },
  {
   "cell_type": "code",
   "execution_count": 32,
   "id": "29e9060f-3cae-42c7-a915-6d44dacf4582",
   "metadata": {},
   "outputs": [
    {
     "name": "stdout",
     "output_type": "stream",
     "text": [
      "ahim\n"
     ]
    }
   ],
   "source": [
    "#we do not have to enter both arguments (numbers):\n",
    "print(name[3:])\n",
    "#what did that do?\n",
    "#it started from the 3rd index (4th element) and pulled everything until the end of the string!"
   ]
  },
  {
   "cell_type": "code",
   "execution_count": 33,
   "id": "bdec2215-a3c7-4ca4-9e19-dd193f3107d6",
   "metadata": {},
   "outputs": [
    {
     "name": "stdout",
     "output_type": "stream",
     "text": [
      "Ibrah\n"
     ]
    }
   ],
   "source": [
    "#similarly:\n",
    "print(name[:5])\n",
    "#now we started at the beginning and stopped at the 5th index i.e the 6th element"
   ]
  },
  {
   "cell_type": "code",
   "execution_count": 34,
   "id": "ded2e99b-4e78-4f95-80d5-b3cfc0408d11",
   "metadata": {},
   "outputs": [
    {
     "name": "stdout",
     "output_type": "stream",
     "text": [
      "ndom s\n"
     ]
    }
   ],
   "source": [
    "print(var_3[2:8])"
   ]
  },
  {
   "cell_type": "code",
   "execution_count": 35,
   "id": "7d4e480c-1226-4e1d-8d2a-edcef7a1a87c",
   "metadata": {},
   "outputs": [],
   "source": [
    "#what if we want to find a particular string element?\n",
    "# we use the index method!\n",
    "#a method is a special function that only applies to a certain class of objects, in this case .index only works on strings"
   ]
  },
  {
   "cell_type": "code",
   "execution_count": 36,
   "id": "fdd5e30e-7eb5-4a64-8eea-09f5bfac2e17",
   "metadata": {},
   "outputs": [
    {
     "name": "stdout",
     "output_type": "stream",
     "text": [
      "5\n",
      "0\n"
     ]
    }
   ],
   "source": [
    "#example\n",
    "print(name.index(\"i\"))\n",
    "print(name.index(\"I\"))"
   ]
  },
  {
   "cell_type": "code",
   "execution_count": 37,
   "id": "fe649a55-1323-479a-a202-3bde1bd03c9d",
   "metadata": {},
   "outputs": [
    {
     "data": {
      "text/plain": [
       "0"
      ]
     },
     "execution_count": 37,
     "metadata": {},
     "output_type": "execute_result"
    }
   ],
   "source": [
    "#it returned 5! telling us that \"i\" is at the 5th index i.e. the 6th element!\n",
    "#but why 5 and not 0? \n",
    "#if you guessed because one is upper and the other is lower case, you guessed right! for python \"i\" and \"I\" are different objects\n",
    "#lets try to find the index of \"I\"\n",
    "name.index(\"I\")"
   ]
  },
  {
   "cell_type": "code",
   "execution_count": 38,
   "id": "a6f550b6-0efc-44cd-84d5-c159965246f2",
   "metadata": {},
   "outputs": [
    {
     "ename": "ValueError",
     "evalue": "substring not found",
     "output_type": "error",
     "traceback": [
      "\u001b[1;31m---------------------------------------------------------------------------\u001b[0m",
      "\u001b[1;31mValueError\u001b[0m                                Traceback (most recent call last)",
      "\u001b[1;32m<ipython-input-38-52846c0830d2>\u001b[0m in \u001b[0;36m<module>\u001b[1;34m\u001b[0m\n\u001b[0;32m      1\u001b[0m \u001b[1;31m#what happends if we look for something that is not there?\u001b[0m\u001b[1;33m\u001b[0m\u001b[1;33m\u001b[0m\u001b[1;33m\u001b[0m\u001b[0m\n\u001b[1;32m----> 2\u001b[1;33m \u001b[0mname\u001b[0m\u001b[1;33m.\u001b[0m\u001b[0mindex\u001b[0m\u001b[1;33m(\u001b[0m\u001b[1;34m'x'\u001b[0m\u001b[1;33m)\u001b[0m\u001b[1;33m\u001b[0m\u001b[1;33m\u001b[0m\u001b[0m\n\u001b[0m",
      "\u001b[1;31mValueError\u001b[0m: substring not found"
     ]
    }
   ],
   "source": [
    "#what happends if we look for something that is not there?\n",
    "name.index('x')"
   ]
  },
  {
   "cell_type": "code",
   "execution_count": 39,
   "id": "d4776358-d93b-4cf9-b37b-11601b297b8a",
   "metadata": {},
   "outputs": [
    {
     "data": {
      "text/plain": [
       "True"
      ]
     },
     "execution_count": 39,
     "metadata": {},
     "output_type": "execute_result"
    }
   ],
   "source": [
    "#oh oh a value error: substring not found\n",
    "#well we expected as much, the string \"Ibrahim\" does not contain the substring \"x\"\n",
    "#we can check if a particular substring is within a string as follows:\n",
    "#we use the \"in\" operator, if the substring is in the string it will return True, otherwise False\n",
    "\"bra\" in name"
   ]
  },
  {
   "cell_type": "code",
   "execution_count": 40,
   "id": "545bf60b-11f4-4ba3-bbc1-61ef327cee52",
   "metadata": {},
   "outputs": [
    {
     "data": {
      "text/plain": [
       "False"
      ]
     },
     "execution_count": 40,
     "metadata": {},
     "output_type": "execute_result"
    }
   ],
   "source": [
    "#lets see if x is in name\n",
    "\"x\" in name"
   ]
  },
  {
   "cell_type": "code",
   "execution_count": 41,
   "id": "ff5f145f-94cd-4f78-b560-79d440c74aeb",
   "metadata": {},
   "outputs": [
    {
     "ename": "NameError",
     "evalue": "name 'x' is not defined",
     "output_type": "error",
     "traceback": [
      "\u001b[1;31m---------------------------------------------------------------------------\u001b[0m",
      "\u001b[1;31mNameError\u001b[0m                                 Traceback (most recent call last)",
      "\u001b[1;32m<ipython-input-41-e51ec81b68e7>\u001b[0m in \u001b[0;36m<module>\u001b[1;34m\u001b[0m\n\u001b[0;32m      1\u001b[0m \u001b[1;31m#notice:\u001b[0m\u001b[1;33m\u001b[0m\u001b[1;33m\u001b[0m\u001b[1;33m\u001b[0m\u001b[0m\n\u001b[1;32m----> 2\u001b[1;33m \u001b[0mx\u001b[0m \u001b[1;32min\u001b[0m \u001b[0mname\u001b[0m\u001b[1;33m\u001b[0m\u001b[1;33m\u001b[0m\u001b[0m\n\u001b[0m",
      "\u001b[1;31mNameError\u001b[0m: name 'x' is not defined"
     ]
    }
   ],
   "source": [
    "#notice:\n",
    "x in name"
   ]
  },
  {
   "cell_type": "code",
   "execution_count": 42,
   "id": "11258b12-b60a-46cd-a676-61190630c024",
   "metadata": {},
   "outputs": [],
   "source": [
    "#we got a nameError: 'x is not defined!'\n",
    "#this is because x is a variable while \"x\" is a string containing the character or element x"
   ]
  },
  {
   "cell_type": "code",
   "execution_count": 43,
   "id": "efeabada-1d1f-464c-803d-d5b35fb9b796",
   "metadata": {},
   "outputs": [
    {
     "name": "stdout",
     "output_type": "stream",
     "text": [
      "1\n"
     ]
    }
   ],
   "source": [
    "#now that we know \"bra\" is in name we can use index to find it\n",
    "print(name.index(\"bra\"))"
   ]
  },
  {
   "cell_type": "code",
   "execution_count": 44,
   "id": "5c0eb4e7-f661-4c76-a3c9-2cd2791ed7ce",
   "metadata": {},
   "outputs": [
    {
     "name": "stdout",
     "output_type": "stream",
     "text": [
      "4\n"
     ]
    }
   ],
   "source": [
    "#it returned 1, which means the substring \"bra\" starts at the 2. character (index 1!)\n",
    "#another example:\n",
    "print(name.index(\"hi\"))"
   ]
  },
  {
   "cell_type": "code",
   "execution_count": 45,
   "id": "c563fe48-771f-414c-9f38-004e73dc7d85",
   "metadata": {},
   "outputs": [
    {
     "name": "stdout",
     "output_type": "stream",
     "text": [
      "bra\n"
     ]
    }
   ],
   "source": [
    "#suppose we want to now pull out the substring bra\n",
    "#one way to do so:\n",
    "\n",
    "#check to see if substring is in string\n",
    "#we will use the if conditional which will only allow rhe execution of the code indented underneath if the condition is True.\n",
    "#remember we covered the if conditional and branching previously!\n",
    "if \"bra\" in name: \n",
    "    \n",
    "    #lets find the length of the \"substring bra\"\n",
    "    length_substring = len(\"bra\") \n",
    "    \n",
    "    #lets find where the substring starts\n",
    "    start = name.index(\"bra\")\n",
    "    \n",
    "    #the substring must end at the index it starts plus its length \n",
    "    end = name.index(\"bra\") + length_substring\n",
    "    \n",
    "    #lets print it out now\n",
    "    print(name[start:end])"
   ]
  },
  {
   "cell_type": "code",
   "execution_count": 46,
   "id": "cb7aa683-08a4-4990-b3e1-9f81bc7892a6",
   "metadata": {},
   "outputs": [],
   "source": [
    "#wow that was a lot of code just to find a 3 letter substring!\n",
    "#but we already have enough to do some pretty cool stuff\n",
    "#behold the power of python!\n",
    "\n",
    "\n",
    "#the below snippet of code defines a function (just like in math!) that takes an email, an old email domain, and a new email domain\n",
    "#it then replaces the old domain with the new domain\n",
    "#we can use print statements tp keep track of what the function is doing\n",
    "\n",
    "\n",
    "def replace_domain(email, old_domain, new_domain): #this is the function definition, rmemeber to define a function we use the \"def\" keyword followed by the name and arguments (parameters) we want the function to take\n",
    "    index = 0\n",
    "    if \"@\" + old_domain in email:  #just as before lets check if the email is using the old domain\n",
    "        #print(\"The email is still using old domain!\")\n",
    "        \n",
    "        index = email.index(\"@\" + old_domain) #now we want to find the index where the old domain starts \n",
    "        #print(\"the index is: \", index)\n",
    "        \n",
    "        new_email = email[:index] + \"@\" + new_domain #now we tell python that the new email is the old email upto the old domain + \"@\" + new domain\n",
    "        #print(new_email)\n",
    "        \n",
    "        return new_email #tell the function to return the new email if the if block executed\n",
    "    return email #otherwise keep the email as is since it is not using the old domain we want to update"
   ]
  },
  {
   "cell_type": "code",
   "execution_count": 47,
   "id": "f981321d-80e5-4b83-ad72-98fdcfebf58e",
   "metadata": {},
   "outputs": [
    {
     "data": {
      "text/plain": [
       "'ibrhmaskn@hotmail.com'"
      ]
     },
     "execution_count": 47,
     "metadata": {},
     "output_type": "execute_result"
    }
   ],
   "source": [
    "replace_domain(\"ibrhmaskn@gmail.com\", \"gmail.com\", \"hotmail.com\")"
   ]
  },
  {
   "cell_type": "code",
   "execution_count": 48,
   "id": "681023ca-dea2-4420-b819-a6b3d711a478",
   "metadata": {},
   "outputs": [],
   "source": [
    "#we can make the above function even more powerful, by iterating it within a for loop\n",
    "#remember a for loop will go through a list of elements and (usually) do something with each element in the list\n",
    "\n",
    "#of course this only works for switching from one domain to another\n",
    "\n",
    "def email_updater(list_of_emails, old_domain, new_domain):   #takes a list of emails, old domain and new domain as arguments\n",
    "    new_list = []                                            #initialize empty list to append new emails into\n",
    "    for email in list_of_emails:                             #iterate over list of emails\n",
    "        if \"@\" + old_domain in email:                        #check to see if substring is in list element\n",
    "            index = email.index(\"@\" + old_domain)            #we know the substring exists, so we can find its index\n",
    "            new_email = email[:index] + \"@\" + new_domain     #now we concatonate the new domain onto the old email without the old domain\n",
    "            new_list.append(new_email)                       #append the new email into the list\n",
    "        else:                                                #if email does not have old domain \n",
    "            new_list.append(email)                           #append email to list\n",
    "    return new_list                                          #return the new list"
   ]
  },
  {
   "cell_type": "code",
   "execution_count": 49,
   "id": "4221fb3e-fec8-48ea-a4e6-2a618d52d213",
   "metadata": {},
   "outputs": [
    {
     "name": "stdout",
     "output_type": "stream",
     "text": [
      "['ibrhmaskn@hotmail.com', 'ibrahim_askin@hotmail.com', 'ibrahim_askin@hotmail.com']\n"
     ]
    }
   ],
   "source": [
    "list_emails = [\"ibrhmaskn@gmail.com\", \"ibrahim_askin@gmail.com\",\"ibrahim_askin@hotmail.com\"]\n",
    "print(email_updater(list_emails, \"gmail.com\", \"hotmail.com\"))"
   ]
  },
  {
   "cell_type": "code",
   "execution_count": 50,
   "id": "ce11eeae-b986-4bc4-bc29-41ae1c15d574",
   "metadata": {},
   "outputs": [
    {
     "name": "stdout",
     "output_type": "stream",
     "text": [
      "9\n"
     ]
    }
   ],
   "source": [
    "#suppose we have multiple different email domains we want to update? how can we do it?\n",
    "email_1 = \"ibrhmaskn@gmail.com\"\n",
    "print(email_1.index(\"@\"))"
   ]
  },
  {
   "cell_type": "code",
   "execution_count": 51,
   "id": "0521dc26-9bc8-47bf-8050-dae548793ad9",
   "metadata": {},
   "outputs": [
    {
     "name": "stdout",
     "output_type": "stream",
     "text": [
      "@gmail.com\n"
     ]
    }
   ],
   "source": [
    "#so lets just look at everything following the 9th index\n",
    "print(email_1[9:])"
   ]
  },
  {
   "cell_type": "code",
   "execution_count": 52,
   "id": "435d6ce7-a041-420e-a2e2-feeebbc291c9",
   "metadata": {},
   "outputs": [],
   "source": [
    "#the below script will update all emails fromm any domain to a new domain\n",
    "def email_updaterv2(list_of_emails, new_domain):\n",
    "    new_list = []\n",
    "    for email in list_of_emails:\n",
    "        index = email.index(\"@\")                           #find index\n",
    "        if email[index:] != \"@\" + new_domain:              #if substring containing domain is different from the new domain\n",
    "            new_email = email[:index] + new_domain\n",
    "            new_list.append(new_email)\n",
    "        else:\n",
    "            new_list.append(email)\n",
    "    return new_list"
   ]
  },
  {
   "cell_type": "code",
   "execution_count": 53,
   "id": "507b3d8c-6e44-40e7-ba10-e87669c42ea1",
   "metadata": {},
   "outputs": [
    {
     "name": "stdout",
     "output_type": "stream",
     "text": [
      "['ibrhmaskn@hotmail.com', 'ibrahim_askin@hotmail.com', 'ibrahim_askin@hotmail.com']\n"
     ]
    }
   ],
   "source": [
    "print(email_updaterv2(list_emails, \"@hotmail.com\"))"
   ]
  },
  {
   "cell_type": "code",
   "execution_count": 54,
   "id": "ef217750-d15d-4013-8780-1db966efe9ab",
   "metadata": {},
   "outputs": [],
   "source": [
    "#both the first version and second version do almost the same thing\n",
    "#the latter will update every email into the new domain, not just a specified previous domain!\n",
    "#unless you know for a fact that is what you want to do, go with the former function!"
   ]
  },
  {
   "cell_type": "code",
   "execution_count": 55,
   "id": "05663871-a91d-4ffe-92cc-28cf826b07a4",
   "metadata": {},
   "outputs": [],
   "source": [
    "#W have seen a lot about strings so far\n",
    "#below are some more methods you can use to manipulate strings!"
   ]
  },
  {
   "cell_type": "code",
   "execution_count": 56,
   "id": "b6e0b01e-5f94-4a44-a5ae-15941c556069",
   "metadata": {},
   "outputs": [
    {
     "name": "stdout",
     "output_type": "stream",
     "text": [
      "['This', 'is', 'very', 'fun', 'but', 'I', 'am', 'lazy']\n"
     ]
    }
   ],
   "source": [
    "random_string = \"This is very fun but I am lazy\"\n",
    "#the split method \n",
    "var_split = random_string.split()\n",
    "print(var_split)"
   ]
  },
  {
   "cell_type": "code",
   "execution_count": 57,
   "id": "790108e0-04ae-414a-b041-9fb6be36dbe4",
   "metadata": {},
   "outputs": [
    {
     "name": "stdout",
     "output_type": "stream",
     "text": [
      "This is very fun but I am lazy\n"
     ]
    }
   ],
   "source": [
    "#the join method\n",
    "var_join = \" \".join(var_split)\n",
    "print(var_join)"
   ]
  },
  {
   "cell_type": "code",
   "execution_count": 58,
   "id": "9118bee4-0e26-46dd-b6cf-ce05b1327c0c",
   "metadata": {},
   "outputs": [
    {
     "name": "stdout",
     "output_type": "stream",
     "text": [
      "Hello random, your lucky number is arbitrary, which happens to be 27\n"
     ]
    }
   ],
   "source": [
    "#thr format method\n",
    "var_3 = \"random\"\n",
    "var_4 = \"arbitrary\"\n",
    "var_5 = len(var_4*3)\n",
    "chaos_string = \"Hello {}, your lucky number is {}, which happens to be {}\".format(var_3, var_4, var_5)\n",
    "print(chaos_string)"
   ]
  },
  {
   "cell_type": "code",
   "execution_count": 59,
   "id": "60626acd-96de-4b5c-8862-f1854c916f98",
   "metadata": {},
   "outputs": [],
   "source": [
    "random_string = \"I am feeling very lazy\"\n",
    "def acronym_generator(phrase):\n",
    "    words = phrase.split()  #the split method splits the phrase and puts it into a lost\n",
    "    print(words)\n",
    "    dummy_list  = \"\"\n",
    "    for word in words:\n",
    "        dummy_list = dummy_list + word[0].upper() #the upper method converts to uppercase\n",
    "    return dummy_list"
   ]
  },
  {
   "cell_type": "code",
   "execution_count": 60,
   "id": "a0d3d1aa-4a4e-4d27-8aa5-6841024fe1ae",
   "metadata": {},
   "outputs": [
    {
     "name": "stdout",
     "output_type": "stream",
     "text": [
      "['I', 'am', 'feeling', 'very', 'lazy']\n"
     ]
    },
    {
     "data": {
      "text/plain": [
       "'IAFVL'"
      ]
     },
     "execution_count": 60,
     "metadata": {},
     "output_type": "execute_result"
    }
   ],
   "source": [
    "acronym_generator(random_string)"
   ]
  },
  {
   "cell_type": "code",
   "execution_count": 61,
   "id": "0958cb06-13f5-4593-8fca-07babe21251e",
   "metadata": {},
   "outputs": [
    {
     "name": "stdout",
     "output_type": "stream",
     "text": [
      "  0 F | -17.78 C\n",
      " 10 F | -12.22 C\n",
      " 20 F |  -6.67 C\n",
      " 30 F |  -1.11 C\n",
      " 40 F |   4.44 C\n",
      " 50 F |  10.00 C\n",
      " 60 F |  15.56 C\n",
      " 70 F |  21.11 C\n",
      " 80 F |  26.67 C\n",
      " 90 F |  32.22 C\n",
      "100 F |  37.78 C\n"
     ]
    }
   ],
   "source": [
    "def to_celc(fahr):\n",
    "    celc = (fahr-32)*5/9\n",
    "    return celc\n",
    "\n",
    "for fahr in range(0,101,10):\n",
    "    print(\"{:>3} F | {:>6.2F} C\".format(fahr, to_celc(fahr)))"
   ]
  },
  {
   "cell_type": "code",
   "execution_count": 62,
   "id": "e5adb6c7-df95-43e8-8d5a-6cf97254a552",
   "metadata": {},
   "outputs": [
    {
     "name": "stdout",
     "output_type": "stream",
     "text": [
      "['program.c', 'stdio.hpp', 'sample.hpp', 'a.out', 'math.hpp', 'hpp']\n"
     ]
    }
   ],
   "source": [
    "filenames = [\"program.c\", \"stdio.hpp\", \"sample.hpp\", \"a.out\", \"math.hpp\", \"hpp.out\"]\n",
    "# Generate newfilenames as a list containing the new filenames\n",
    "# using as many lines of code as your chosen method requires.\n",
    "\n",
    "def name_update(list_filenames):\n",
    "    dummy_list = []\n",
    "    for file_i in list_filenames:\n",
    "        if \"hpp\" in file_i:\n",
    "            index = file_i.index(\"hpp\")\n",
    "            new_file = file_i[:index] + \"hpp\"\n",
    "            dummy_list.append(new_file)\n",
    "        else:\n",
    "            dummy_list.append(file_i)\n",
    "    return dummy_list\n",
    "newfilenames = name_update(filenames)\n",
    "\n",
    "print(newfilenames) \n",
    "# Should be [\"program.c\", \"stdio.h\", \"sample.h\", \"a.out\", \"math.h\", \"hpp.out\"]"
   ]
  },
  {
   "cell_type": "code",
   "execution_count": 63,
   "id": "29b48374-0400-45d3-ac17-9f7a02e77ad4",
   "metadata": {},
   "outputs": [
    {
     "data": {
      "text/plain": [
       "list"
      ]
     },
     "execution_count": 63,
     "metadata": {},
     "output_type": "execute_result"
    }
   ],
   "source": [
    "dummy_list = []\n",
    "type(dummy_list)"
   ]
  },
  {
   "cell_type": "code",
   "execution_count": 64,
   "id": "78ddfba0-4b5e-4b69-80de-e8d44106f577",
   "metadata": {},
   "outputs": [
    {
     "ename": "SyntaxError",
     "evalue": "duplicate argument '___' in function definition (<ipython-input-64-b57610e3396e>, line 5)",
     "output_type": "error",
     "traceback": [
      "\u001b[1;36m  File \u001b[1;32m\"<ipython-input-64-b57610e3396e>\"\u001b[1;36m, line \u001b[1;32m5\u001b[0m\n\u001b[1;33m    def func_name(___, ___):\u001b[0m\n\u001b[1;37m    ^\u001b[0m\n\u001b[1;31mSyntaxError\u001b[0m\u001b[1;31m:\u001b[0m duplicate argument '___' in function definition\n"
     ]
    }
   ],
   "source": [
    "#more practice!\n",
    "#create a function to update any email given to a new domain\n",
    "#use the following structure\n",
    "#replace ____ with appropriate syntax\n",
    "def func_name(___, ___):\n",
    "    new_email = \"\"\n",
    "    if ___ in ___:\n",
    "        index = ___.___()\n",
    "        new_email = ___[__:__] + ___ + ___\n",
    "    else:\n",
    "        return ___\n",
    "    return ____\n",
    "print(func_name(email, domain))"
   ]
  },
  {
   "cell_type": "code",
   "execution_count": null,
   "id": "4a0f8d18-c684-41e6-b7ba-fb52066ce2fb",
   "metadata": {},
   "outputs": [],
   "source": []
  }
 ],
 "metadata": {
  "kernelspec": {
   "display_name": "Python 3",
   "language": "python",
   "name": "python3"
  },
  "language_info": {
   "codemirror_mode": {
    "name": "ipython",
    "version": 3
   },
   "file_extension": ".py",
   "mimetype": "text/x-python",
   "name": "python",
   "nbconvert_exporter": "python",
   "pygments_lexer": "ipython3",
   "version": "3.8.5"
  }
 },
 "nbformat": 4,
 "nbformat_minor": 5
}
